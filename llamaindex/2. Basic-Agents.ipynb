{
 "cells": [
  {
   "cell_type": "code",
   "execution_count": 17,
   "id": "95e89f2c",
   "metadata": {},
   "outputs": [
    {
     "ename": "NameError",
     "evalue": "name 'llm' is not defined",
     "output_type": "error",
     "traceback": [
      "\u001b[1;31m---------------------------------------------------------------------------\u001b[0m",
      "\u001b[1;31mNameError\u001b[0m                                 Traceback (most recent call last)",
      "Cell \u001b[1;32mIn[17], line 15\u001b[0m\n\u001b[0;32m      7\u001b[0m     \u001b[38;5;241m.\u001b[39m\u001b[38;5;241m.\u001b[39m\u001b[38;5;241m.\u001b[39m\n\u001b[0;32m     10\u001b[0m tool \u001b[38;5;241m=\u001b[39m FunctionTool\u001b[38;5;241m.\u001b[39mfrom_defaults(\n\u001b[0;32m     11\u001b[0m     get_weather,\n\u001b[0;32m     12\u001b[0m     \u001b[38;5;66;03m# async_fn=aget_weather,  # optional!\u001b[39;00m\n\u001b[0;32m     13\u001b[0m )\n\u001b[1;32m---> 15\u001b[0m agent \u001b[38;5;241m=\u001b[39m ReActAgent(llm\u001b[38;5;241m=\u001b[39m\u001b[43mllm\u001b[49m, tools\u001b[38;5;241m=\u001b[39mtools)\n",
      "\u001b[1;31mNameError\u001b[0m: name 'llm' is not defined"
     ]
    }
   ],
   "source": [
    "from llama_index.core.agent.workflow import ReActAgent\n",
    "from llama_index.core.tools import FunctionTool\n",
    "\n",
    "\n",
    "def get_weather(location: str) -> str:\n",
    "    \"\"\"Usfeful for getting the weather for a given location.\"\"\"\n",
    "    ...\n",
    "\n",
    "\n",
    "tool = FunctionTool.from_defaults(\n",
    "    get_weather,\n",
    "    # async_fn=aget_weather,  # optional!\n",
    ")\n",
    "\n",
    "agent = ReActAgent(llm=llm, tools=tools)"
   ]
  },
  {
   "cell_type": "code",
   "execution_count": 35,
   "id": "502410b6",
   "metadata": {},
   "outputs": [
    {
     "name": "stdout",
     "output_type": "stream",
     "text": [
      "hii maam\n",
      "The result of the multiplication is 5635678.\n"
     ]
    }
   ],
   "source": [
    "import asyncio\n",
    "import os\n",
    "from llama_index.core.agent import FunctionCallingAgent\n",
    "from llama_index.llms.groq import Groq\n",
    "from llama_index.core.tools import FunctionTool\n",
    "from dotenv import load_dotenv\n",
    "\n",
    "load_dotenv()\n",
    "api = os.getenv(\"GROQ_API\")\n",
    "\n",
    "# Define a simple calculator tool\n",
    "def multiply(a: float, b: float) -> float:\n",
    "    \"\"\"Useful for multiplying two numbers.\"\"\"\n",
    "    print(\"hii maam\")\n",
    "    return a * b\n",
    "\n",
    "# Wrap the multiply function in a FunctionTool\n",
    "multiply_tool = FunctionTool.from_defaults(fn=multiply)\n",
    "\n",
    "# Create an agent workflow with our calculator tool\n",
    "agent = FunctionCallingAgent.from_tools(\n",
    "    tools=[multiply_tool],\n",
    "    llm=Groq(model=\"llama3-70b-8192\", api_key=api),\n",
    "    system_prompt=\"You are a helpful Ai.\",\n",
    ")\n",
    "\n",
    "# Define the main function (no need for async since chat is synchronous)\n",
    "def main():\n",
    "    # Run the agent\n",
    "    response = agent.chat(\"What is 1234 * 4567?\")\n",
    "    print(str(response))\n",
    "\n",
    "# In a Jupyter notebook, call the main function directly\n",
    "main()"
   ]
  },
  {
   "cell_type": "code",
   "execution_count": 39,
   "id": "ff06454b",
   "metadata": {},
   "outputs": [
    {
     "name": "stdout",
     "output_type": "stream",
     "text": [
      "Area Query:\n",
      "Calculating rectangle area...\n",
      "The area of the rectangle is 17.6.\n",
      "\n",
      "Perimeter Query:\n",
      "Calculating rectangle perimeter...\n",
      "The perimeter of the rectangle is 17.4.\n"
     ]
    }
   ],
   "source": [
    "import os\n",
    "from llama_index.core.agent import FunctionCallingAgent\n",
    "from llama_index.llms.groq import Groq\n",
    "from llama_index.core.tools import FunctionTool\n",
    "from dotenv import load_dotenv\n",
    "\n",
    "# Load environment variables\n",
    "load_dotenv()\n",
    "api = os.getenv(\"GROQ_API\")\n",
    "\n",
    "# Define a tool to calculate the area of a rectangle\n",
    "def calculate_rectangle_area(length: float, width: float) -> float:\n",
    "    \"\"\"Calculates the area of a rectangle given its length and width.\"\"\"\n",
    "    print(\"Calculating rectangle area...\")\n",
    "    return length * width\n",
    "\n",
    "# Define a tool to calculate the perimeter of a rectangle\n",
    "def calculate_rectangle_perimeter(length: float, width: float) -> float:\n",
    "    \"\"\"Calculates the perimeter of a rectangle given its length and width.\"\"\"\n",
    "    print(\"Calculating rectangle perimeter...\")\n",
    "    return 2 * (length + width)\n",
    "\n",
    "# Wrap the functions in FunctionTool\n",
    "area_tool = FunctionTool.from_defaults(fn=calculate_rectangle_area)\n",
    "perimeter_tool = FunctionTool.from_defaults(fn=calculate_rectangle_perimeter)\n",
    "\n",
    "# Create an agent with the rectangle area and perimeter tools\n",
    "agent = FunctionCallingAgent.from_tools(\n",
    "    tools=[area_tool, perimeter_tool],\n",
    "    llm=Groq(model=\"llama3-70b-8192\", api_key=api),\n",
    "    system_prompt=\"You are a helpful assistant that can calculate the area and perimeter of a rectangle.\",\n",
    ")\n",
    "\n",
    "# Define the main function (synchronous for Jupyter)\n",
    "def main():\n",
    "    # Run the agent with queries\n",
    "    print(\"Area Query:\")\n",
    "    area_response = agent.chat(\"What is the area of a rectangle with length 5.5 and width 3.2?\")\n",
    "    print(str(area_response))\n",
    "    \n",
    "    print(\"\\nPerimeter Query:\")\n",
    "    perimeter_response = agent.chat(\"What is the perimeter of a rectangle with length 5.5 and width 3.2?\")\n",
    "    print(str(perimeter_response))\n",
    "# Call the main function directly\n",
    "main()"
   ]
  }
 ],
 "metadata": {
  "kernelspec": {
   "display_name": "Python 3",
   "language": "python",
   "name": "python3"
  },
  "language_info": {
   "codemirror_mode": {
    "name": "ipython",
    "version": 3
   },
   "file_extension": ".py",
   "mimetype": "text/x-python",
   "name": "python",
   "nbconvert_exporter": "python",
   "pygments_lexer": "ipython3",
   "version": "3.9.0"
  }
 },
 "nbformat": 4,
 "nbformat_minor": 5
}
