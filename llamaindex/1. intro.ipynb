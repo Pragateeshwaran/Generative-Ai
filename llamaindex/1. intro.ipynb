{
 "cells": [
  {
   "cell_type": "code",
   "execution_count": null,
   "id": "18b6a76d",
   "metadata": {},
   "outputs": [
    {
     "data": {
      "text/plain": [
       "'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'"
      ]
     },
     "execution_count": 11,
     "metadata": {},
     "output_type": "execute_result"
    }
   ],
   "source": [
    "from llama_index.llms.groq import Groq\n",
    "from dotenv import load_dotenv\n",
    "load_dotenv()\n",
    "import os\n",
    "api = os.getenv(\"GROQ_API\")"
   ]
  },
  {
   "cell_type": "code",
   "execution_count": null,
   "id": "2483033e",
   "metadata": {},
   "outputs": [],
   "source": [
    "llm = Groq(model=\"llama3-70b-8192\", api_key=api)"
   ]
  },
  {
   "cell_type": "code",
   "execution_count": 13,
   "id": "fd516a20",
   "metadata": {},
   "outputs": [],
   "source": [
    "response = llm.complete(\"Explain the importance of low latency LLMs\")"
   ]
  },
  {
   "cell_type": "code",
   "execution_count": 17,
   "id": "9a848799",
   "metadata": {},
   "outputs": [
    {
     "name": "stdout",
     "output_type": "stream",
     "text": [
      "Low-latency Large Language Models (LLMs) are crucial in various applications where real-time or near-real-time processing are essential. Here are some reasons why low-latency LLMs are important:\n",
      "\n",
      "1. **Conversational AI**: In conversational AI, such as chatbots, voice assistants, or dialogue systems, low-latency LLMs enable rapid response times, making the interaction feel more natural and engaging. Delays in response can lead to user frustration and abandonment.\n",
      "2. **Real-time language translation**: Low-latency LLMs are essential for simultaneous translation in applications like video conferencing, live subtitles, or real-time chat translation. This enables seamless communication across language barriers.\n",
      "3. **Speech recognition**: Fast and accurate speech recognition is critical in applications like voice-controlled devices, voice assistants, or transcription services. Low-latency LLMs help improve the user experience and reduce errors.\n",
      "4. **Autonomous systems**: In autonomous vehicles, drones, or other autonomous systems, low-latency LLMs are necessary for real-time processing of sensor data, enabling quick decision-making and reaction times**.\n",
      "5. **Gaming and simulation**: Low-latency LLMs can enhance the gaming experience by enabling more realistic NPC interactions, faster dialogue processing, and more responsive game mechanics.\n",
      "7. **Healthcare and telemedicine**: In telemedicine, low-latency LLMs can facilitate real-time language translation, enabling healthcare professionals to communicate more effectively with patients who speak different languages.\n",
      "8. **Customer service**: In customer service chatbots, low-latency LLMs can provide faster and more accurate responses, leading to higher customer satisfaction and reduced support costs.\n",
      "9. **Edge computing**: With the increasing adoption of edge computing, low-latency LLMs can be deployed closer to the source of the data, reducing latency and improving performance in applications like smart homes, cities, or industries.\n",
      "10. **Competitive advantage**: In many industries, the ability to process and respond to language-based inputs quickly can be a key differentiator, providing a competitive advantage over slower or less responsive systems.\n",
      "\n",
      "To achieve low latency in LLMs, various techniques can be employed, such as:\n",
      "\n",
      "* Model pruning and knowledge distillation\n",
      "* Quantization and compression\n",
      "* Efficient inference engines and hardware acceleration\n",
      "* Caching and parallel processing\n",
      "* Optimized model serving and deployment strategies\n",
      "\n",
      "In summary, low-latency LLMs are essential in various domains where rapid processing and response times are critical, enabling more natural and engaging user experiences, improving decision-making, and enhancing overall performance.\n"
     ]
    }
   ],
   "source": [
    "(print(response.text))"
   ]
  }
 ],
 "metadata": {
  "kernelspec": {
   "display_name": "Python 3",
   "language": "python",
   "name": "python3"
  },
  "language_info": {
   "codemirror_mode": {
    "name": "ipython",
    "version": 3
   },
   "file_extension": ".py",
   "mimetype": "text/x-python",
   "name": "python",
   "nbconvert_exporter": "python",
   "pygments_lexer": "ipython3",
   "version": "3.9.0"
  }
 },
 "nbformat": 4,
 "nbformat_minor": 5
}
