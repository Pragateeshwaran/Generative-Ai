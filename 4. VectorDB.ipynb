{
 "cells": [
  {
   "cell_type": "code",
   "execution_count": 1,
   "id": "e730e70a",
   "metadata": {},
   "outputs": [],
   "source": [
    "import faiss\n",
    "import numpy as np\n"
   ]
  },
  {
   "cell_type": "code",
   "execution_count": 2,
   "id": "0799b130",
   "metadata": {},
   "outputs": [
    {
     "name": "stdout",
     "output_type": "stream",
     "text": [
      "Nearest neighbor strings: ['apple']\n",
      "Distances: [5.]\n"
     ]
    }
   ],
   "source": [
    "import faiss\n",
    "import numpy as np\n",
    " \n",
    "string_to_vector = {\n",
    "    \"apple\": [1.0, 2.0, 3.0],\n",
    "    \"banana\": [4.0, 5.0, 6.0],\n",
    "    \"grape\": [7.0, 8.0, 3.0]\n",
    "}\n",
    " \n",
    "d = 3   \n",
    "index = faiss.IndexFlatL2(d)\n",
    " \n",
    "vectors = np.array(list(string_to_vector.values()), dtype='float32')\n",
    "index.add(vectors)\n",
    " \n",
    "query_vector = np.array([[3.0, 3.0, 3.0]], dtype='float32')   \n",
    "k = 1\n",
    "\n",
    "distances, indices = index.search(query_vector, k) \n",
    "vector_to_string = {i: word for i, word in enumerate(string_to_vector.keys())}\n",
    "\n",
    "print(\"Nearest neighbor strings:\", [vector_to_string[idx] for idx in indices[0]])\n",
    "print(\"Distances:\", distances[0])\n"
   ]
  },
  {
   "cell_type": "code",
   "execution_count": 1,
   "id": "55e5566e",
   "metadata": {},
   "outputs": [
    {
     "name": "stderr",
     "output_type": "stream",
     "text": [
      "c:\\Users\\ADMIN\\AppData\\Local\\Programs\\Python\\Python39\\lib\\site-packages\\sentence_transformers\\cross_encoder\\CrossEncoder.py:11: TqdmWarning: IProgress not found. Please update jupyter and ipywidgets. See https://ipywidgets.readthedocs.io/en/stable/user_install.html\n",
      "  from tqdm.autonotebook import tqdm, trange\n"
     ]
    },
    {
     "name": "stdout",
     "output_type": "stream",
     "text": [
      "WARNING:tensorflow:From c:\\Users\\ADMIN\\AppData\\Local\\Programs\\Python\\Python39\\lib\\site-packages\\keras\\src\\losses.py:2976: The name tf.losses.sparse_softmax_cross_entropy is deprecated. Please use tf.compat.v1.losses.sparse_softmax_cross_entropy instead.\n",
      "\n",
      "Index trained? True\n",
      "Total sentences in index: 5\n",
      "Closest sentence match: I love eating apples\n"
     ]
    },
    {
     "name": "stderr",
     "output_type": "stream",
     "text": [
      "c:\\Users\\ADMIN\\AppData\\Local\\Programs\\Python\\Python39\\lib\\site-packages\\transformers\\models\\bert\\modeling_bert.py:440: UserWarning: 1Torch was not compiled with flash attention. (Triggered internally at C:\\actions-runner\\_work\\pytorch\\pytorch\\builder\\windows\\pytorch\\aten\\src\\ATen\\native\\transformers\\cuda\\sdp_utils.cpp:455.)\n",
      "  attn_output = torch.nn.functional.scaled_dot_product_attention(\n"
     ]
    }
   ],
   "source": [
    "from sentence_transformers import SentenceTransformer\n",
    "import faiss\n",
    "import numpy as np\n",
    " \n",
    "model = SentenceTransformer(\"all-MiniLM-L6-v2\", cache_folder=\"cache\")   \n",
    "sentences = [\n",
    "    \"I love eating apples\",\n",
    "    \"Bananas are yellow\",\n",
    "    \"The sky is blue\",\n",
    "    \"Apples are delicious fruits\",\n",
    "    \"Mountains are beautiful\"\n",
    "]\n",
    "\n",
    "sentence_vectors = model.encode(sentences)   \n",
    "d = sentence_vectors.shape[1]   \n",
    "nlist = 2  \n",
    "quantizer = faiss.IndexFlatL2(d)   \n",
    "index = faiss.IndexIVFFlat(quantizer, d, nlist, faiss.METRIC_L2) \n",
    "index.train(sentence_vectors)\n",
    "print(\"Index trained?\", index.is_trained) \n",
    "index.add(sentence_vectors)\n",
    "print(\"Total sentences in index:\", index.ntotal)   \n",
    "query = model.encode([\"I like eating fruits\"])   \n",
    "index.nprobe = 2  \n",
    "distances, indices = index.search(query, k=1)   \n",
    "closest_sentence = sentences[indices[0][0]]\n",
    "print(\"Closest sentence match:\", closest_sentence)\n"
   ]
  },
  {
   "cell_type": "code",
   "execution_count": 4,
   "id": "239f2b25",
   "metadata": {},
   "outputs": [
    {
     "data": {
      "text/plain": [
       "array([[0]], dtype=int64)"
      ]
     },
     "execution_count": 4,
     "metadata": {},
     "output_type": "execute_result"
    }
   ],
   "source": [
    "indices"
   ]
  }
 ],
 "metadata": {
  "kernelspec": {
   "display_name": "Python 3",
   "language": "python",
   "name": "python3"
  },
  "language_info": {
   "codemirror_mode": {
    "name": "ipython",
    "version": 3
   },
   "file_extension": ".py",
   "mimetype": "text/x-python",
   "name": "python",
   "nbconvert_exporter": "python",
   "pygments_lexer": "ipython3",
   "version": "3.9.0"
  }
 },
 "nbformat": 4,
 "nbformat_minor": 5
}
