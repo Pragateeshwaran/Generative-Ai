{
 "cells": [
  {
   "cell_type": "code",
   "execution_count": 2,
   "id": "f3aa70dc",
   "metadata": {},
   "outputs": [
    {
     "name": "stderr",
     "output_type": "stream",
     "text": [
      "Some weights of the model checkpoint at google-bert/bert-base-uncased were not used when initializing BertForMaskedLM: ['bert.pooler.dense.bias', 'bert.pooler.dense.weight', 'cls.seq_relationship.bias', 'cls.seq_relationship.weight']\n",
      "- This IS expected if you are initializing BertForMaskedLM from the checkpoint of a model trained on another task or with another architecture (e.g. initializing a BertForSequenceClassification model from a BertForPreTraining model).\n",
      "- This IS NOT expected if you are initializing BertForMaskedLM from the checkpoint of a model that you expect to be exactly identical (initializing a BertForSequenceClassification model from a BertForSequenceClassification model).\n",
      "Device set to use cuda:0\n",
      "c:\\Users\\ADMIN\\AppData\\Local\\Programs\\Python\\Python39\\lib\\site-packages\\transformers\\models\\bert\\modeling_bert.py:440: UserWarning: 1Torch was not compiled with flash attention. (Triggered internally at C:\\actions-runner\\_work\\pytorch\\pytorch\\builder\\windows\\pytorch\\aten\\src\\ATen\\native\\transformers\\cuda\\sdp_utils.cpp:455.)\n",
      "  attn_output = torch.nn.functional.scaled_dot_product_attention(\n"
     ]
    },
    {
     "data": {
      "text/plain": [
       "[{'score': 0.151123046875,\n",
       "  'token': 2943,\n",
       "  'token_str': 'energy',\n",
       "  'sequence': 'plants create energy through a process known as photosynthesis.'},\n",
       " {'score': 0.1453857421875,\n",
       "  'token': 4870,\n",
       "  'token_str': 'flowers',\n",
       "  'sequence': 'plants create flowers through a process known as photosynthesis.'},\n",
       " {'score': 0.08221435546875,\n",
       "  'token': 9325,\n",
       "  'token_str': 'sunlight',\n",
       "  'sequence': 'plants create sunlight through a process known as photosynthesis.'},\n",
       " {'score': 0.04296875,\n",
       "  'token': 18670,\n",
       "  'token_str': 'algae',\n",
       "  'sequence': 'plants create algae through a process known as photosynthesis.'},\n",
       " {'score': 0.037628173828125,\n",
       "  'token': 12649,\n",
       "  'token_str': 'atp',\n",
       "  'sequence': 'plants create atp through a process known as photosynthesis.'}]"
      ]
     },
     "execution_count": 2,
     "metadata": {},
     "output_type": "execute_result"
    }
   ],
   "source": [
    "import torch\n",
    "from transformers import pipeline\n",
    "\n",
    "pipeline = pipeline(\n",
    "    task=\"fill-mask\",\n",
    "    model=\"google-bert/bert-base-uncased\",\n",
    "    torch_dtype=torch.float16,\n",
    "    device=0, \n",
    ")\n",
    "pipeline(\"Plants create [MASK] through a process known as photosynthesis.\")"
   ]
  },
  {
   "cell_type": "code",
   "execution_count": null,
   "id": "b5f1d3b7",
   "metadata": {},
   "outputs": [],
   "source": []
  },
  {
   "cell_type": "code",
   "execution_count": null,
   "id": "69392c3b",
   "metadata": {},
   "outputs": [],
   "source": []
  },
  {
   "cell_type": "code",
   "execution_count": null,
   "id": "2707f5a8",
   "metadata": {},
   "outputs": [],
   "source": []
  }
 ],
 "metadata": {
  "kernelspec": {
   "display_name": "Python 3",
   "language": "python",
   "name": "python3"
  },
  "language_info": {
   "codemirror_mode": {
    "name": "ipython",
    "version": 3
   },
   "file_extension": ".py",
   "mimetype": "text/x-python",
   "name": "python",
   "nbconvert_exporter": "python",
   "pygments_lexer": "ipython3",
   "version": "3.9.0"
  }
 },
 "nbformat": 4,
 "nbformat_minor": 5
}
