{
 "cells": [
  {
   "cell_type": "code",
   "execution_count": 2,
   "metadata": {},
   "outputs": [
    {
     "name": "stderr",
     "output_type": "stream",
     "text": [
      "c:\\Users\\ADMIN\\AppData\\Local\\Programs\\Python\\Python39\\lib\\site-packages\\tqdm\\auto.py:21: TqdmWarning: IProgress not found. Please update jupyter and ipywidgets. See https://ipywidgets.readthedocs.io/en/stable/user_install.html\n",
      "  from .autonotebook import tqdm as notebook_tqdm\n"
     ]
    }
   ],
   "source": [
    "from transformers import AutoModelForCausalLM, AutoTokenizer\n",
    "from transformers import GPT2Config \n",
    "from transformers import AutoConfig\n",
    "import torch"
   ]
  },
  {
   "cell_type": "code",
   "execution_count": 25,
   "metadata": {},
   "outputs": [
    {
     "name": "stderr",
     "output_type": "stream",
     "text": [
      "The attention mask and the pad token id were not set. As a consequence, you may observe unexpected behavior. Please pass your input's `attention_mask` to obtain reliable results.\n",
      "Setting `pad_token_id` to `eos_token_id`:50256 for open-end generation.\n"
     ]
    },
    {
     "name": "stdout",
     "output_type": "stream",
     "text": [
      "Hi I am pragateesh !!! I dont work in IT. I work in a bar. I'm here to help. I am not for sale . I am a man. I like the things I have. So if you want to donate $50 I am looking for a good man. I am willing to work for you. I know the place is big but if not this place is the last one. I am not for sale. I am a man. I love the things I\n"
     ]
    }
   ],
   "source": [
    "device = \"cuda\" if torch.cuda.is_available() else \"cpu\"\n",
    "\n",
    "model = AutoModelForCausalLM.from_pretrained(\"gpt2\", cache_dir=\"cache\").to(device)\n",
    "tokenizer = AutoTokenizer.from_pretrained(\"gpt2\", cache_dir=\"cache\")\n",
    "\n",
    "ids = tokenizer.encode(\"Hi I am pragateesh \", return_tensors=\"pt\").to(device)\n",
    "output = model.generate(ids, max_length=100, do_sample=True)\n",
    " \n",
    "print(tokenizer.decode(output[0].tolist(), skip_special_tokens=True))\n"
   ]
  },
  {
   "cell_type": "code",
   "execution_count": 7,
   "metadata": {},
   "outputs": [
    {
     "name": "stdout",
     "output_type": "stream",
     "text": [
      "Love you Bro !!!\n",
      "\n",
      "Anonymous 09/12/16 (Tue) 08:27:55 AM No. 65958 I think this is true? I thought so that was just my mistake because I said I was trying to call anyone who would care because I am so pissed off at people and that is not ok. I want this deleted so I can have a more peaceful time but if it gets deleted it probably will be just as bad as last time and you are welcome in this\n"
     ]
    }
   ],
   "source": [
    "print(tokenizer.decode(output[0].tolist(), skip_special_tokens=True))"
   ]
  },
  {
   "cell_type": "code",
   "execution_count": 20,
   "metadata": {},
   "outputs": [],
   "source": [
    "# Create a custom GPT-2 model with a smaller configuration\n",
    "# This is a simplified example and may not represent the full capabilities of GPT-2\n",
    "# Note: The actual GPT-2 model is much larger and more complex\n",
    "# from transformers import GPT2Config, AutoModelForCausalLM, AutoTokenizer\n",
    " \n",
    "# config = GPT2Config(\n",
    "#     vocab_size=50257,  \n",
    "#     n_embd=256,        \n",
    "#     n_layer=4,         \n",
    "#     n_head=4            \n",
    "# )\n",
    " \n",
    "# model = AutoModelForCausalLM.from_config(config)\n",
    "# tokenizer = AutoTokenizer.from_pretrained(\"gpt2\")   \n",
    "# input_text = \"The sun is\"\n",
    "# input_ids = tokenizer(input_text, return_tensors=\"pt\").input_ids\n",
    " \n",
    "# output = model.generate(input_ids, max_length=len(input_ids[0]) + 1)\n",
    " \n",
    "# predicted_text = tokenizer.decode(output[0])\n",
    "# print(predicted_text)\n"
   ]
  },
  {
   "cell_type": "code",
   "execution_count": 26,
   "metadata": {},
   "outputs": [
    {
     "name": "stderr",
     "output_type": "stream",
     "text": [
      "The attention mask and the pad token id were not set. As a consequence, you may observe unexpected behavior. Please pass your input's `attention_mask` to obtain reliable results.\n",
      "Setting `pad_token_id` to `eos_token_id`:50256 for open-end generation.\n"
     ]
    },
    {
     "name": "stdout",
     "output_type": "stream",
     "text": [
      "Hi I am pragateeshadowbankruptruptcycycyclingclingclingclingclingclingclingclingclingclingclingclingclingclingclingclingclingclingclingyardyard\n",
      "\n",
      "(*)catentrycatentrycatentrycatentrycatentrycatentrycatentrycatentry_style=\"postgresqlite-style=\"false|__Nicholskykykykykykymondelementsande-style style style temp temp temp summing...etcetcetcetcetereter...etcetcetcetereterries. Likelihood Ratio ratio ratio\n"
     ]
    }
   ],
   "source": [
    "from transformers import AutoModelForCausalLM\n",
    "\n",
    "# Load pre-trained GPT-2 model\n",
    "model = AutoModelForCausalLM.from_pretrained(\"gpt2\", cache_dir=\"cache\").to(device)\n",
    " \n",
    "model.transformer.h = model.transformer.h[:4]\n",
    "model.config.n_layer = 4\n",
    "\n",
    "ids = tokenizer.encode(\"Hi I am pragateesh\", return_tensors=\"pt\").to(device)\n",
    "output = model.generate(ids, max_length=100, do_sample=True)\n",
    " \n",
    "print(tokenizer.decode(output[0].tolist(), skip_special_tokens=True))"
   ]
  },
  {
   "cell_type": "code",
   "execution_count": null,
   "metadata": {},
   "outputs": [
    {
     "name": "stderr",
     "output_type": "stream",
     "text": [
      "BertForMaskedLM has generative capabilities, as `prepare_inputs_for_generation` is explicitly overwritten. However, it doesn't directly inherit from `GenerationMixin`. From 👉v4.50👈 onwards, `PreTrainedModel` will NOT inherit from `GenerationMixin`, and this model will lose the ability to call `generate` and other related functions.\n",
      "  - If you're using `trust_remote_code=True`, you can get rid of this warning by loading the model with an auto class. See https://huggingface.co/docs/transformers/en/model_doc/auto#auto-classes\n",
      "  - If you are the owner of the model architecture code, please modify your model class such that it inherits from `GenerationMixin` (after `PreTrainedModel`, otherwise you'll get an exception).\n",
      "  - If you are not the owner of the model architecture class, please contact the model code owner to update it.\n",
      "Some weights of the model checkpoint at bert-base-uncased were not used when initializing BertForMaskedLM: ['bert.pooler.dense.bias', 'bert.pooler.dense.weight', 'cls.seq_relationship.bias', 'cls.seq_relationship.weight']\n",
      "- This IS expected if you are initializing BertForMaskedLM from the checkpoint of a model trained on another task or with another architecture (e.g. initializing a BertForSequenceClassification model from a BertForPreTraining model).\n",
      "- This IS NOT expected if you are initializing BertForMaskedLM from the checkpoint of a model that you expect to be exactly identical (initializing a BertForSequenceClassification model from a BertForSequenceClassification model).\n"
     ]
    },
    {
     "name": "stdout",
     "output_type": "stream",
     "text": [
      "anna\n"
     ]
    }
   ],
   "source": [
    "from transformers import AutoModelForMaskedLM, AutoTokenizer\n",
    "import torch\n",
    "\n",
    "device = \"cuda\" if torch.cuda.is_available() else \"cpu\"\n",
    "model = AutoModelForMaskedLM.from_pretrained(\"bert-base-uncased\").to(device)\n",
    "tokenizer = AutoTokenizer.from_pretrained(\"bert-base-uncased\")\n",
    "\n",
    "text = \"Hi, I am [MASK].\"\n",
    "inputs = tokenizer(text, return_tensors=\"pt\").to(device)\n",
    "with torch.no_grad():\n",
    "    outputs = model(**inputs)\n",
    "predictions = outputs.logits[0, inputs.input_ids[0] == tokenizer.mask_token_id]\n",
    "predicted_token = torch.argmax(predictions, dim=-1)\n",
    "print(tokenizer.decode(predicted_token))\n"
   ]
  },
  {
   "cell_type": "code",
   "execution_count": 28,
   "metadata": {},
   "outputs": [],
   "source": [
    "lenght = \"\"\"This project implemented a Low-Rank Adaptation (LoRA) technique from scratch for fine-tuning a neural network on the MNIST dataset. It covered the model setup, adaptation process, and a comprehensive training pipeline, including optimization, loss functions, and evaluation metrics for efficient model fine-tuning.\"\"\""
   ]
  },
  {
   "cell_type": "code",
   "execution_count": 29,
   "metadata": {},
   "outputs": [
    {
     "data": {
      "text/plain": [
       "42"
      ]
     },
     "execution_count": 29,
     "metadata": {},
     "output_type": "execute_result"
    }
   ],
   "source": [
    "len(lenght.split())"
   ]
  },
  {
   "cell_type": "code",
   "execution_count": null,
   "metadata": {},
   "outputs": [],
   "source": []
  }
 ],
 "metadata": {
  "kernelspec": {
   "display_name": "Python 3",
   "language": "python",
   "name": "python3"
  },
  "language_info": {
   "codemirror_mode": {
    "name": "ipython",
    "version": 3
   },
   "file_extension": ".py",
   "mimetype": "text/x-python",
   "name": "python",
   "nbconvert_exporter": "python",
   "pygments_lexer": "ipython3",
   "version": "3.9.0"
  }
 },
 "nbformat": 4,
 "nbformat_minor": 2
}
