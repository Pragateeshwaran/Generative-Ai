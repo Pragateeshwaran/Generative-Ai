{
 "cells": [
  {
   "cell_type": "code",
   "execution_count": 6,
   "id": "34f24887",
   "metadata": {},
   "outputs": [],
   "source": [
    "from dotenv import load_dotenv\n",
    "import os\n",
    "\n",
    "load_dotenv() \n",
    "\n",
    "api_key = os.getenv(\"GROQ_API\") "
   ]
  },
  {
   "cell_type": "code",
   "execution_count": null,
   "metadata": {},
   "outputs": [],
   "source": [
    "from langchain.chat_models import init_chat_model\n",
    "\n",
    "model = init_chat_model(\"llama3-8b-8192\", model_provider=\"groq\", api_key=api_key)"
   ]
  },
  {
   "cell_type": "code",
   "execution_count": 11,
   "id": "d324cc38",
   "metadata": {},
   "outputs": [
    {
     "name": "stdout",
     "output_type": "stream",
     "text": [
      "content='The capital of France is Paris.' additional_kwargs={} response_metadata={'token_usage': {'completion_tokens': 8, 'prompt_tokens': 17, 'total_tokens': 25, 'completion_time': 0.006666667, 'prompt_time': 0.002576284, 'queue_time': 0.253052555, 'total_time': 0.009242951}, 'model_name': 'llama3-8b-8192', 'system_fingerprint': 'fp_dadc9d6142', 'finish_reason': 'stop', 'logprobs': None} id='run-69162316-c6b5-43ea-9364-027aca381489-0' usage_metadata={'input_tokens': 17, 'output_tokens': 8, 'total_tokens': 25}\n"
     ]
    }
   ],
   "source": [
    "llm_res = model.invoke(\n",
    "    \"What is the capital of France?\"\n",
    "    )\n",
    "print(llm_res)"
   ]
  },
  {
   "cell_type": "code",
   "execution_count": null,
   "id": "04ae457c",
   "metadata": {},
   "outputs": [],
   "source": []
  }
 ],
 "metadata": {
  "kernelspec": {
   "display_name": "Python 3",
   "language": "python",
   "name": "python3"
  },
  "language_info": {
   "codemirror_mode": {
    "name": "ipython",
    "version": 3
   },
   "file_extension": ".py",
   "mimetype": "text/x-python",
   "name": "python",
   "nbconvert_exporter": "python",
   "pygments_lexer": "ipython3",
   "version": "3.9.0"
  }
 },
 "nbformat": 4,
 "nbformat_minor": 5
}
