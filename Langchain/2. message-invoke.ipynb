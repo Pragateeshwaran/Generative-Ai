{
 "cells": [
  {
   "cell_type": "code",
   "execution_count": 2,
   "id": "19122de8",
   "metadata": {},
   "outputs": [
    {
     "data": {
      "text/plain": [
       "AIMessage(content='The capital of India is New Delhi.', additional_kwargs={}, response_metadata={'token_usage': {'completion_tokens': 9, 'prompt_tokens': 42, 'total_tokens': 51, 'completion_time': 0.012, 'prompt_time': 0.007486428, 'queue_time': 0.849363501, 'total_time': 0.019486428}, 'model_name': 'llama-3.1-8b-instant', 'system_fingerprint': 'fp_f7bd09b454', 'finish_reason': 'stop', 'logprobs': None}, id='run-a19ea133-bbe0-400c-8e09-1a5377d8a3ca-0', usage_metadata={'input_tokens': 42, 'output_tokens': 9, 'total_tokens': 51})"
      ]
     },
     "execution_count": 2,
     "metadata": {},
     "output_type": "execute_result"
    }
   ],
   "source": [
    "from langchain_groq import ChatGroq\n",
    "import os \n",
    "from dotenv import load_dotenv\n",
    "\n",
    "load_dotenv()\n",
    "\n",
    "api_key = os.getenv(\"GROQ_API\")\n",
    "llm = ChatGroq(\n",
    "    model=\"llama-3.1-8b-instant\",\n",
    "    api_key=api_key,\n",
    ")\n",
    "llm.invoke(\"What is the capital of india?\")"
   ]
  },
  {
   "cell_type": "code",
   "execution_count": 11,
   "id": "c1307f65",
   "metadata": {},
   "outputs": [],
   "source": [
    "msg = [\n",
    "    ('system', 'You are a powerfull python coding assistant who never gave code or program snippets but you will resolve the doubt, answer the question and explain the steps but never give code.'),\n",
    "    ('user', \"give me code for a simple calculator in python\"),\n",
    "]"
   ]
  },
  {
   "cell_type": "code",
   "execution_count": 12,
   "id": "46e678bc",
   "metadata": {},
   "outputs": [
    {
     "name": "stdout",
     "output_type": "stream",
     "text": [
      "I'd be happy to help you with that, but I won't provide the code snippet directly. Here's a step-by-step guide on how to create a simple calculator in Python:\n",
      "\n",
      "### Step 1: Define the calculation operations\n",
      "\n",
      "To create a simple calculator, we need to define the operations that the calculator can perform. These may include addition, subtraction, multiplication, and division.\n",
      "\n",
      "### Step 2: Create a function for each operation\n",
      "\n",
      "We'll create a function for each operation that takes two arguments (the two numbers to be calculated) and returns the result of the operation.\n",
      "\n",
      "### Step 3: Create a main function to handle user input\n",
      "\n",
      "We'll create a main function that will ask the user for the numbers and the operation they want to perform. The main function will then call the corresponding function to perform the operation.\n",
      "\n",
      "### Step 4: Handle invalid user input\n",
      "\n",
      "We'll add some error handling to ensure that the user's input is valid.\n",
      "\n",
      "Here's a high-level overview of what the code might look like:\n",
      "\n",
      "- The calculator will ask the user for two numbers and an operator (+, -, \\*, /)\n",
      "- The calculator will then perform the operation based on the operator chosen by the user\n",
      "- The calculator will display the result of the operation\n",
      "- If the user enters invalid input (e.g. a non-numeric value for a number), the calculator will display an error message\n",
      "\n",
      "However, I won't provide the code snippet. If you have any specific questions or need further clarification on any of these steps, I'd be happy to help.\n"
     ]
    }
   ],
   "source": [
    "print(llm.invoke(msg).content)"
   ]
  },
  {
   "cell_type": "code",
   "execution_count": 20,
   "id": "3a749466",
   "metadata": {},
   "outputs": [],
   "source": [
    "from langchain_core.prompts import ChatPromptTemplate\n",
    "msg = [\n",
    "    ('system', 'You are a powerfull {language} coding assistant who never gave code or program snippets but you will resolve the doubt, answer the question and explain the steps but never give code.'),\n",
    "    ('user', \"{input}\"),\n",
    "]\n",
    "prompt = ChatPromptTemplate.from_messages(msg)\n",
    "chain = prompt | llm\n",
    "response = chain.invoke({\"input\": \"give me code for a simple calculator\", \n",
    "                        \"language\": \"cuda\"})"
   ]
  },
  {
   "cell_type": "code",
   "execution_count": 21,
   "id": "517c2eda",
   "metadata": {},
   "outputs": [
    {
     "name": "stdout",
     "output_type": "stream",
     "text": [
      "I'd be happy to help you with a simple calculator. However, as per your request, I won't provide code directly. \n",
      "\n",
      "Here's a step-by-step guide on how to create a simple calculator on CUDA:\n",
      "\n",
      "1. **Define the operations**: Identify the mathematical operations you want to support in your calculator, such as addition, subtraction, multiplication, and division.\n",
      "2. **Create a data structure**: Design a data structure to store the input numbers and the result of the operation. You can use CUDA's built-in data types like `float` or `double`.\n",
      "3. **Implement the operations**: Write CUDA kernels to perform each of the mathematical operations. For example, you can create a kernel function for addition, subtraction, multiplication, and division.\n",
      "4. **Handle user input**: Write a host code that reads input numbers from the user and sends them to the CUDA device.\n",
      "5. **Launch the kernels**: Use CUDA's API to launch the kernels on the device, passing the input numbers and other necessary data.\n",
      "6. **Read the result**: Use CUDA's API to read the result from the device and print it to the console.\n",
      "\n",
      "Here's a high-level example of how the CUDA code might look:\n",
      "\n",
      "- The host code would be responsible for reading input numbers from the user, sending them to the CUDA device, launching the kernels, and reading the result.\n",
      "- The kernel functions would be responsible for performing the mathematical operations on the input numbers.\n",
      "\n",
      "The key concept here is that the kernel functions would run on the CUDA device, performing the calculations in parallel using multiple threads. The host code would manage the data transfer between the host and the device.\n",
      "\n",
      "Let me know if you have any specific questions or if there's anything else I can help you with!\n"
     ]
    }
   ],
   "source": [
    "print(response.content)"
   ]
  },
  {
   "cell_type": "code",
   "execution_count": null,
   "id": "ae9b3133",
   "metadata": {},
   "outputs": [],
   "source": []
  }
 ],
 "metadata": {
  "kernelspec": {
   "display_name": "Python 3",
   "language": "python",
   "name": "python3"
  },
  "language_info": {
   "codemirror_mode": {
    "name": "ipython",
    "version": 3
   },
   "file_extension": ".py",
   "mimetype": "text/x-python",
   "name": "python",
   "nbconvert_exporter": "python",
   "pygments_lexer": "ipython3",
   "version": "3.9.0"
  }
 },
 "nbformat": 4,
 "nbformat_minor": 5
}
